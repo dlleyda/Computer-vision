{
 "cells": [
  {
   "cell_type": "markdown",
   "metadata": {},
   "source": [
    "# Competición CNN \n",
    "\n",
    "Autores: David García Lleyda, Álvaro Martínez Parpolowicz, Alexis Gómez Chimeno\n",
    "\n",
    "Clase: MAIS 5ºA"
   ]
  },
  {
   "cell_type": "markdown",
   "metadata": {},
   "source": [
    "## 1. Librerías"
   ]
  },
  {
   "cell_type": "code",
   "execution_count": 9,
   "id": "1bd3f822",
   "metadata": {},
   "outputs": [],
   "source": [
    "from tensorflow.keras.preprocessing.image import ImageDataGenerator\n",
    "from tensorflow.keras.layers import Input, Conv2D, MaxPooling2D, Flatten, Dense\n",
    "from tensorflow.keras.layers import RandomRotation\n",
    "from tensorflow.keras.models import Model\n",
    "import requests\n",
    "from PIL import Image\n",
    "import numpy as np\n",
    "from matplotlib import pyplot as plt\n",
    "import os\n",
    "from tensorflow.image import stateless_random_flip_up_down\n",
    "import tensorflow as tf\n",
    "import json\n",
    "import cv2\n",
    "import os\n",
    "import shutil\n",
    " "
   ]
  },
  {
   "cell_type": "markdown",
   "metadata": {},
   "source": [
    "## 2. Data augmentation\n",
    "\n",
    "A partir de aquí se implementa el código con el que se ha aumentado el dataset de train mediante técnicas de data augmentation.\n",
    "\n",
    "Se ha preferido generar las imágenes y guardarlas que implementarlas a través del generador. De esta manera, ahorramos tiempo cargando una y otra vez las imágenes que debe modificar el generador para dar el conjunto final.\n",
    "\n",
    "Aunque solo se deba generar nuevas imágenes modificadas con respecto a los datos de train, se deja comentado el código necesario para generar respecto a cada una de las carpetas restantes (validación y test)."
   ]
  },
  {
   "cell_type": "code",
   "execution_count": 2,
   "id": "a7796623",
   "metadata": {},
   "outputs": [],
   "source": [
    "def load_image(file):\n",
    "    img = cv2.imread(file)\n",
    "    return img\n",
    "\n",
    "\n",
    "######################################################################\n",
    "relative_path_train='./Sports/train/'\n",
    "# relative_path_valid='./Sports/valid/'\n",
    "# relative_path_test='./Sports/test/'\n",
    "######################################################################\n",
    "\n",
    "\n",
    "######################################################################\n",
    "with open('one_hot_train_by_folders.json','r') as file:\n",
    "    train_data = json.load(file)\n",
    "    file.close()\n",
    "\n",
    "# with open('one_hot_valid_by_folders.json','r') as file:\n",
    "#     valid_data = json.load(file)\n",
    "#     file.close()\n",
    "\n",
    "# with open('one_hot_test_by_folders.json','r') as file:\n",
    "#     test_data = json.load(file)\n",
    "#     file.close()\n",
    "######################################################################\n",
    "\n",
    "\n",
    "######################################################################\n",
    "# imgs_todo_aug_test = []\n",
    "# for i in test_data:\n",
    "#     imgs_todo_aug_test.append(load_image(relative_path_test + i))\n",
    "    \n",
    "imgs_todo_aug_train = []\n",
    "for i in train_data:\n",
    "    imgs_todo_aug_train.append(load_image(relative_path_train + i))\n",
    "\n",
    "# imgs_todo_aug_valid = []\n",
    "# for i in valid_data:\n",
    "#     imgs_todo_aug_valid.append(load_image(relative_path_valid + i))\n",
    "######################################################################\n"
   ]
  },
  {
   "cell_type": "code",
   "execution_count": 3,
   "id": "e2188fe8",
   "metadata": {},
   "outputs": [],
   "source": [
    "output_dirname = 'Sports_augmented'\n",
    "if not os.path.exists(output_dirname):\n",
    "    os.makedirs(output_dirname)\n",
    "\n",
    "######################################################################\n",
    "# test_dirname = \"test\"\n",
    "# output_test_dirname = output_dirname+\"/\"+test_dirname\n",
    "# if not os.path.exists(output_test_dirname):\n",
    "#     os.makedirs(output_test_dirname)\n",
    "\n",
    "train_dirname = \"train\"\n",
    "output_train_dirname = output_dirname+\"/\"+train_dirname\n",
    "if not os.path.exists(output_train_dirname):\n",
    "    os.makedirs(output_train_dirname)\n",
    "\n",
    "# valid_dirname = \"valid\"\n",
    "# output_valid_dirname = output_dirname+\"/\"+valid_dirname\n",
    "# if not os.path.exists(output_valid_dirname):\n",
    "#     os.makedirs(output_valid_dirname)\n",
    "######################################################################\n",
    "\n",
    "\n",
    "######################################################################\n",
    "# for i in os.listdir(relative_path_test):\n",
    "    \n",
    "#     if not os.path.exists(output_test_dirname+\"/\"+i):\n",
    "#         os.makedirs(output_test_dirname+\"/\"+i)\n",
    "    \n",
    "for i in os.listdir(relative_path_train):\n",
    "    if not os.path.exists(output_train_dirname+\"/\"+i):\n",
    "        os.makedirs(output_train_dirname+\"/\"+i)\n",
    "    \n",
    "# for i in os.listdir(relative_path_valid):\n",
    "#     if not os.path.exists(output_valid_dirname+\"/\"+i):\n",
    "#         os.makedirs(output_valid_dirname+\"/\"+i)\n",
    "######################################################################"
   ]
  },
  {
   "cell_type": "code",
   "execution_count": 8,
   "id": "e9b99acb",
   "metadata": {},
   "outputs": [],
   "source": [
    "augmentation = tf.keras.Sequential([\n",
    "    tf.keras.layers.RandomRotation(0.2),  # rotation in degrees\n",
    "    # tf.keras.layers.RandomZoom(0.2),  # random zoom\n",
    "    tf.keras.layers.RandomFlip(\"horizontal\")  # horizontal flip\n",
    "])\n",
    "\n",
    "######################################################################\n",
    "# aug_test = list(map(lambda x: augmentation(x), imgs_todo_aug_test))\n",
    "\n",
    "aug_train = []\n",
    "\n",
    "for i,j in zip(imgs_todo_aug_train, train_data):\n",
    "    # aug_train.append(augmentation(i))\n",
    "    aug_image = augmentation(i)\n",
    "    folder, image_name = j.split(\"/\")\n",
    "    cv2.imwrite(output_train_dirname+\"/\"+folder+\"/augmented_\"+image_name, aug_image.numpy())\n",
    "\n",
    "# aug_train = list(map(lambda x: augmentation(x), imgs_todo_aug_train))\n",
    "\n",
    "# aug_valid = list(map(lambda x: augmentation(x), imgs_todo_aug_valid))\n",
    "######################################################################"
   ]
  },
  {
   "cell_type": "markdown",
   "metadata": {},
   "source": [
    "Como el código genera una nueva carpeta con las imágenes modificadas, copiamos tanto las imágenes desde la carpeta original de train dada y la carpeta generada a una carpeta final."
   ]
  },
  {
   "cell_type": "code",
   "execution_count": null,
   "metadata": {},
   "outputs": [],
   "source": [
    "source = './Sports/train/'\n",
    "source_augmented = './Sports_augmented/train/'\n",
    "destination = './Sports_Final/train/'\n",
    "# create destination folder if not exists\n",
    "sports_final= './Sports_Final/'\n",
    "\n",
    "if not os.path.exists(sports_final):\n",
    "\tos.mkdir(sports_final)\n",
    "if not os.path.exists(destination):\n",
    "\tos.mkdir(destination)"
   ]
  },
  {
   "cell_type": "code",
   "execution_count": 16,
   "id": "a8ed2216",
   "metadata": {},
   "outputs": [
    {
     "name": "stdout",
     "output_type": "stream",
     "text": [
      "Images merged successfully.\n"
     ]
    }
   ],
   "source": [
    "def copy_images(src_folder, dest_folder):\n",
    "    for root, _, files in os.walk(src_folder):\n",
    "        for file in files:\n",
    "            src_path = os.path.join(root, file)\n",
    "            dest_path = os.path.join(dest_folder, os.path.relpath(src_path, src_folder))\n",
    " \n",
    "            # Create the destination directory if it doesn't exist\n",
    "            os.makedirs(os.path.dirname(dest_path), exist_ok=True)\n",
    " \n",
    "            # Copy the file to the destination\n",
    "            shutil.copy(src_path, dest_path)\n",
    " \n",
    "def merge_train_folders(src_folder1, src_folder2, dest_folder):\n",
    "    for sport_folder1 in os.listdir(src_folder1):\n",
    "        sport_src_folder1 = os.path.join(src_folder1, sport_folder1)\n",
    "        sport_src_folder2 = os.path.join(src_folder2, sport_folder1)\n",
    "        sport_dest_folder = os.path.join(dest_folder, sport_folder1)\n",
    " \n",
    "        os.makedirs(sport_dest_folder, exist_ok=True)\n",
    " \n",
    "        # Copy images from the first train folder\n",
    "        copy_images(sport_src_folder1, sport_dest_folder)\n",
    " \n",
    "        # Copy images from the second train folder\n",
    "        copy_images(sport_src_folder2, sport_dest_folder)\n",
    " \n",
    "# Specify the source and destination folders\n",
    "src_folder1 = \"Sports/train\"\n",
    "src_folder2 = \"Sports_augmented/train\"\n",
    "dest_folder = \"Sports_final/train\"\n",
    " \n",
    "# Merge the images from both train folders\n",
    "merge_train_folders(src_folder1, src_folder2, dest_folder)\n",
    " \n",
    "print(\"Images merged successfully.\")"
   ]
  }
 ],
 "metadata": {
  "kernelspec": {
   "display_name": "Python 3 (ipykernel)",
   "language": "python",
   "name": "python3"
  },
  "language_info": {
   "codemirror_mode": {
    "name": "ipython",
    "version": 3
   },
   "file_extension": ".py",
   "mimetype": "text/x-python",
   "name": "python",
   "nbconvert_exporter": "python",
   "pygments_lexer": "ipython3",
   "version": "3.10.9"
  }
 },
 "nbformat": 4,
 "nbformat_minor": 5
}
